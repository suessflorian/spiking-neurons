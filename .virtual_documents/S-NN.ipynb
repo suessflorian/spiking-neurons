


from torchvision import datasets, transforms
import torch

batch_size = 2**6

transform = transforms.Compose([
            transforms.Resize((28, 28)),
            transforms.Grayscale(),
            transforms.ToTensor(),
            transforms.Normalize((0,), (1,))])


def denormalize(images):
    return transforms.ToPILImage()(images)

train_dataset = datasets.MNIST('./data', train=True, download=True, transform=transform)
test_dataset = datasets.MNIST('./data', train=False, transform=transform)

train_loader = torch.utils.data.DataLoader(train_dataset, batch_size=batch_size, drop_last=True)
test_loader = torch.utils.data.DataLoader(test_dataset, batch_size=batch_size, drop_last=True)








from snntorch import spikegen
from IPython.display import HTML
import snntorch.spikeplot as splt
import matplotlib.pyplot as plt

batches = iter(train_loader)
batch, _ = next(batches)

observation_window = 10
spike_train = spikegen.rate(batch, num_steps=observation_window)

sample = spike_train[:, 0, 0]

print("Cannot view this in GitHub... sorry.")

fig, ax = plt.subplots()
anim = splt.animator(sample, fig, ax)
HTML(anim.to_html5_video())





import matplotlib.pyplot as plt
import numpy as np


x = np.linspace(-2, 2, 20)
y = np.arctan(x)

plt.figure(figsize=(8, 4))
plt.plot(x, y)
plt.title('Surrogate')
plt.xlabel('arctan(x)')
plt.grid(True)
plt.show()





import torch
import torch.nn as nn
import snntorch as snn
from snntorch import spikegen, surrogate


decay_rate = 0.9


class SimpleSNN(nn.Module):
    def __init__(self):
        super(SimpleSNN, self).__init__()

        self.fc1 = nn.Linear(28*28, 2**8)
        self.lif = snn.Leaky(
            beta=decay_rate,
            spike_grad=surrogate.atan()  # the gradient approximation function
        )
        self.fc2 = nn.Linear(2**8, 10)
        self.window = observation_window

    def forward(self, images):  # images (batch, colour_channel, height, width)
        mem = self.lif.init_leaky()

        flattened = images.view(images.size(0), -1)  # (batch, inputs)
        spike_train = spikegen.rate(flattened, num_steps=self.window)
        output_spikes = []
        for step in range(self.window):
            x = self.fc1(spike_train[step])
            x, mem = self.lif(x, mem)
            x = self.fc2(x)
            output_spikes.append(x)
        return torch.stack(output_spikes, dim=0)


model = SimpleSNN()





criterion = nn.CrossEntropyLoss()
optimizer = torch.optim.SGD(model.parameters(), lr=0.01)


def evaluate(model, loader):
    model.eval()
    correct = 0
    total = 0

    for images, labels in loader:
        # forward pass: (observation_window, batch_size, final_layer)
        output_spikes = model(images)
        outputs = output_spikes.sum(dim=0)
        _, predicted = torch.max(outputs, 1)
        total += labels.size(0)
        correct += (predicted == labels).sum().item()

    accuracy = (correct / total) * 100
    return accuracy


pre = evaluate(model, train_loader)
print(f'Accuracy before training: {pre:.2f}%')

epochs = 10

loss_history = []
accuracy_history = []

for epoch in range(epochs):
    model.train()
    running_loss = 0.
    correct_predictions = 0
    total_predictions = 0

    for images, labels in train_loader:
        optimizer.zero_grad()

        output_spikes = model(images)
        outputs = output_spikes.sum(dim=0)
        loss = criterion(outputs, labels)  # forward pass

        loss.backward()
        optimizer.step()

        running_loss += loss.item()
        _, predicted = torch.max(outputs, 1)
        total_predictions += labels.size(0)
        correct_predictions += (predicted == labels).sum().item()

    epoch_loss = running_loss / len(train_loader)
    epoch_accuracy = (correct_predictions / total_predictions) * 100
    loss_history.append(epoch_loss)
    accuracy_history.append(epoch_accuracy)
    print(f'Epoch [{epoch+1}/{epochs}], Loss: {epoch_loss:.4f}, Accuracy: {epoch_accuracy:.2f}%')


# Plotting the loss and accuracy curves
plt.figure(figsize=(12, 5))
plt.subplot(1, 2, 1)
plt.plot(loss_history, label='Loss')
plt.title('Training Loss')
plt.xlabel('Epoch')
plt.ylabel('Loss')
plt.legend()

plt.subplot(1, 2, 2)
plt.plot(accuracy_history, label='Accuracy')
plt.title('Training Accuracy')
plt.xlabel('Epoch')
plt.ylabel('Accuracy (%)')
plt.legend()

plt.tight_layout()
plt.show()
