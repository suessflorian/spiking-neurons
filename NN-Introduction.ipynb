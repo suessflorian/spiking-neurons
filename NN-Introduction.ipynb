{
 "cells": [
  {
   "cell_type": "markdown",
   "id": "ef5ec409-ac7a-4ffe-81f8-6f0c68f3f2a4",
   "metadata": {},
   "source": [
    "# MNIST Database\n",
    "\n",
    "The `MNIST` database (Modified National Institute of Standards and Technology database) is a large database of handwritten digits that is commonly used for training various image processing systems. Widely used for training and testing in the field of machine learning.\n",
    "\n",
    "- handrawn digits (Note: `EMNIST` includes upper and lower case digits)\n",
    "- 28x28 pixel\n",
    "- grayscale\n",
    "- ~70,000 labelled images.\n",
    "\n",
    "## Loading this via `torchvision`\n",
    "\n",
    "A pytorch extension that consists of popular datasets, yet critically baking into them the separation of training and testing datasets to enforce a bit more consistency across research, as everyone uses the same split - allows for comparable benchmarking of models.\n",
    "\n",
    "`torchvision` allows you to \"transform\" your data as you load it in, which is typically required as you interface your dataset with your NN. We will explicitly avoid the use of this utility to describe nessecary transformations explicitly later. I'm still learning after all."
   ]
  },
  {
   "cell_type": "code",
   "execution_count": 3,
   "id": "570ba213-d7f0-4f25-af5f-cca99e0a3580",
   "metadata": {},
   "outputs": [],
   "source": [
    "from torchvision import datasets\n",
    "\n",
    "train_dataset = datasets.MNIST('./data', train=True, download=True)\n",
    "test_dataset = datasets.MNIST('./data', train=False)"
   ]
  },
  {
   "cell_type": "markdown",
   "id": "19e51fb1-e5a2-4568-bd11-8c57a3848bc2",
   "metadata": {},
   "source": [
    "These are in what is known as a PIL format - tbh I'm not too sure about this format 🤷‍♂️ - but you can draw them and see the raw internal structure in the following way;"
   ]
  },
  {
   "cell_type": "code",
   "execution_count": 4,
   "id": "a90bcb8f-d723-4778-a331-cf51bdb3fdf7",
   "metadata": {},
   "outputs": [
    {
     "data": {
      "image/png": "[encoded data removed]",
      "text/plain": [
       "<Figure size 640x480 with 1 Axes>"
      ]
     },
     "metadata": {},
     "output_type": "display_data"
    }
   ],
   "source": [
    "import matplotlib.pyplot as plt\n",
    "\n",
    "image, label = train_dataset[0]\n",
    "\n",
    "plt.imshow(image, cmap=\"grey\") # To note; even though images are 3D in practice in shape, because these images only operate on one colour channel; these are structurally 2D formats.\n",
    "plt.title(f'Label: {label}')\n",
    "plt.axis('off')\n",
    "plt.show()"
   ]
  },
  {
   "cell_type": "markdown",
   "id": "c067b982-6ccc-4983-bf24-43c17d6f0792",
   "metadata": {},
   "source": [
    "But don't be fooled, the underlying structure is simple - especially considering the grayscale nature of the image. Each incident cell of the 28x28 matrix has a value between 0 and 255."
   ]
  },
  {
   "cell_type": "code",
   "execution_count": 6,
   "id": "71e39984-e656-431d-84ce-e2652b5c4073",
   "metadata": {},
   "outputs": [
    {
     "name": "stdout",
     "output_type": "stream",
     "text": [
      "  0   0   0   0   0   0   0   0   0   0   0   0   0   0   0   0   0   0   0   0   0   0   0   0   0   0   0   0\n",
      "  0   0   0   0   0   0   0   0   0   0   0   0   0   0   0   0   0   0   0   0   0   0   0   0   0   0   0   0\n",
      "  0   0   0   0   0   0   0   0   0   0   0   0   0   0   0   0   0   0   0   0   0   0   0   0   0   0   0   0\n",
      "  0   0   0   0   0   0   0   0   0   0   0   0   0   0   0   0   0   0   0   0   0   0   0   0   0   0   0   0\n",
      "  0   0   0   0   0   0   0   0   0   0   0   0   0   0   0   0   0   0   0   0   0   0   0   0   0   0   0   0\n",
      "  0   0   0   0   0   0   0   0   0   0   0   0   3  18  18  18 126 136 175  26 166 255 247 127   0   0   0   0\n",
      "  0   0   0   0   0   0   0   0  30  36  94 154 170 253 253 253 253 253 225 172 253 242 195  64   0   0   0   0\n",
      "  0   0   0   0   0   0   0  49 238 253 253 253 253 253 253 253 253 251  93  82  82  56  39   0   0   0   0   0\n",
      "  0   0   0   0   0   0   0  18 219 253 253 253 253 253 198 182 247 241   0   0   0   0   0   0   0   0   0   0\n",
      "  0   0   0   0   0   0   0   0  80 156 107 253 253 205  11   0  43 154   0   0   0   0   0   0   0   0   0   0\n",
      "  0   0   0   0   0   0   0   0   0  14   1 154 253  90   0   0   0   0   0   0   0   0   0   0   0   0   0   0\n",
      "  0   0   0   0   0   0   0   0   0   0   0 139 253 190   2   0   0   0   0   0   0   0   0   0   0   0   0   0\n",
      "  0   0   0   0   0   0   0   0   0   0   0  11 190 253  70   0   0   0   0   0   0   0   0   0   0   0   0   0\n",
      "  0   0   0   0   0   0   0   0   0   0   0   0  35 241 225 160 108   1   0   0   0   0   0   0   0   0   0   0\n",
      "  0   0   0   0   0   0   0   0   0   0   0   0   0  81 240 253 253 119  25   0   0   0   0   0   0   0   0   0\n",
      "  0   0   0   0   0   0   0   0   0   0   0   0   0   0  45 186 253 253 150  27   0   0   0   0   0   0   0   0\n",
      "  0   0   0   0   0   0   0   0   0   0   0   0   0   0   0  16  93 252 253 187   0   0   0   0   0   0   0   0\n",
      "  0   0   0   0   0   0   0   0   0   0   0   0   0   0   0   0   0 249 253 249  64   0   0   0   0   0   0   0\n",
      "  0   0   0   0   0   0   0   0   0   0   0   0   0   0  46 130 183 253 253 207   2   0   0   0   0   0   0   0\n",
      "  0   0   0   0   0   0   0   0   0   0   0   0  39 148 229 253 253 253 250 182   0   0   0   0   0   0   0   0\n",
      "  0   0   0   0   0   0   0   0   0   0  24 114 221 253 253 253 253 201  78   0   0   0   0   0   0   0   0   0\n",
      "  0   0   0   0   0   0   0   0  23  66 213 253 253 253 253 198  81   2   0   0   0   0   0   0   0   0   0   0\n",
      "  0   0   0   0   0   0  18 171 219 253 253 253 253 195  80   9   0   0   0   0   0   0   0   0   0   0   0   0\n",
      "  0   0   0   0  55 172 226 253 253 253 253 244 133  11   0   0   0   0   0   0   0   0   0   0   0   0   0   0\n",
      "  0   0   0   0 136 253 253 253 212 135 132  16   0   0   0   0   0   0   0   0   0   0   0   0   0   0   0   0\n",
      "  0   0   0   0   0   0   0   0   0   0   0   0   0   0   0   0   0   0   0   0   0   0   0   0   0   0   0   0\n",
      "  0   0   0   0   0   0   0   0   0   0   0   0   0   0   0   0   0   0   0   0   0   0   0   0   0   0   0   0\n",
      "  0   0   0   0   0   0   0   0   0   0   0   0   0   0   0   0   0   0   0   0   0   0   0   0   0   0   0   0\n"
     ]
    }
   ],
   "source": [
    "import numpy as np\n",
    "\n",
    "def printoutPIL(rows_of_pixels):\n",
    "    for row in rows_of_pixels:\n",
    "        print(' '.join(['{:3}'.format(pixel) for pixel in row]))\n",
    "\n",
    "printoutPIL(np.array(image))"
   ]
  },
  {
   "cell_type": "markdown",
   "id": "5589e0a1-a4de-4f68-8ade-8f1b31be31e6",
   "metadata": {},
   "source": [
    "# Defining NN Inputs and thinking about Normalization\n",
    "\n",
    "We can easily feed each of these cells input into a respective input neuron - but we should think about the mechanics of each neuron in our neural network.\n",
    "\n",
    "## Common activation functions\n",
    "Are typically exhibit most behaviour between ranges -1 to 1, increasing towards 0\n",
    "\n",
    "## Normalization\n",
    "Commonly min-max is used to introduce this concept, seen to commonly produce ranges of results between [0,1] - but stepping beyond this, *z-score* normalization is what you see in industry the most. We transform the data to have a mean of 0 and a standard deviation of 1."
   ]
  },
  {
   "cell_type": "code",
   "execution_count": 7,
   "id": "4e1b11af-7477-4974-bcc3-df9cca801235",
   "metadata": {
    "jupyter": {
     "source_hidden": true
    }
   },
   "outputs": [
    {
     "data": {
      "image/png": "[encoded data removed]",
      "text/plain": [
       "<Figure size 1200x800 with 3 Axes>"
      ]
     },
     "metadata": {},
     "output_type": "display_data"
    }
   ],
   "source": [
    "def sigmoid(x):\n",
    "    return 1 / (1 + np.exp(-x))\n",
    "\n",
    "def tanh(x):\n",
    "    return np.tanh(x)\n",
    "\n",
    "def relu(x):\n",
    "    return np.maximum(0, x)\n",
    "\n",
    "\n",
    "x = np.linspace(-5, 5, 100) # generates a range of values from -5 to 5 for x\n",
    "\n",
    "y_sigmoid = sigmoid(x)\n",
    "y_tanh = tanh(x)\n",
    "y_relu = relu(x)\n",
    "\n",
    "\n",
    "plt.figure(figsize=(12, 8))\n",
    "\n",
    "plt.subplot(3, 3, 1)\n",
    "plt.plot(x, y_sigmoid, label='Sigmoid')\n",
    "plt.title('Sigmoid Function')\n",
    "plt.grid(True)\n",
    "\n",
    "plt.subplot(3, 3, 2)\n",
    "plt.plot(x, y_tanh, color='orange', label='tanh')\n",
    "plt.title('Hyperbolic Tangent Function')\n",
    "plt.grid(True)\n",
    "\n",
    "plt.subplot(3, 3, 3)\n",
    "plt.plot(x, y_relu, color='green', label='ReLU')\n",
    "plt.title('Rectified Linear Unit (ReLU) Function')\n",
    "plt.grid(True)\n",
    "\n",
    "plt.tight_layout()\n",
    "plt.show()"
   ]
  },
  {
   "cell_type": "code",
   "execution_count": 10,
   "id": "b7355d38-2634-47f6-972e-2584858a81ae",
   "metadata": {},
   "outputs": [
    {
     "name": "stdout",
     "output_type": "stream",
     "text": [
      "Mean: 0.1307, Std: 0.3081\n"
     ]
    }
   ],
   "source": [
    "import torch\n",
    "from torchvision import transforms\n",
    "\n",
    "sums = 0\n",
    "sums_sq = 0\n",
    "n_samples = 0\n",
    "\n",
    "for data, _ in train_dataset:\n",
    "    data_tensor = transforms.ToTensor()(data) # NOTE; as above, this tensor has a [1, 28, 28] dimension space - effectively 2D\n",
    "    sums += torch.sum(data_tensor)\n",
    "    sums_sq += torch.sum(data_tensor ** 2)\n",
    "    n_samples += data_tensor.numel()\n",
    "\n",
    "mean = sums / n_samples\n",
    "std = ((sums_sq / n_samples) - (mean ** 2)) ** 0.5\n",
    "\n",
    "print(f'Mean: {mean:.4f}, Std: {std:.4f}')"
   ]
  },
  {
   "cell_type": "markdown",
   "id": "37fb8943-5e5a-403c-bb91-d4a8fce78bc4",
   "metadata": {},
   "source": [
    "## Transforming the test/train datasets"
   ]
  },
  {
   "cell_type": "code",
   "execution_count": 11,
   "id": "6a1559aa-e0aa-4365-a66b-34739cb16e7b",
   "metadata": {},
   "outputs": [],
   "source": [
    "normalize_transform = transforms.Normalize((mean,), (std,))\n",
    "\n",
    "def normalize_dataset(dataset):\n",
    "    normalized_data = []\n",
    "    for img, label in dataset:\n",
    "        img_tensor = transforms.ToTensor()(img)\n",
    "        normalized_img = normalize_transform(img_tensor)\n",
    "        normalized_data.append((normalized_img, label))\n",
    "    return normalized_data\n",
    "\n",
    "normalized_train_dataset = normalize_dataset(train_dataset)\n",
    "normalized_test_dataset = normalize_dataset(test_dataset)"
   ]
  },
  {
   "cell_type": "markdown",
   "id": "bce997c6-77b2-4129-b0d9-0bfd3aa52b69",
   "metadata": {},
   "source": [
    "### Mini-batch SGD will be our training approach\n",
    "The `DataLoader` class in `pytorch` conveniently handles the stochastic, mini-batch sourcing of our training data, wrapping in it the shuffling then batch sourcing for training our NN. Note;\n",
    "\n",
    "The choice of batch size is a trade-off:\n",
    "\n",
    "- Larger batches provide a more accurate estimate of the gradient but require more memory and can lead to a less exploratory update path, potentially getting stuck in shallow local minima.\n",
    "- Smaller batches offer more update opportunities and better generalization at the cost of increased noise in the updates and potentially longer training times."
   ]
  },
  {
   "cell_type": "code",
   "execution_count": 12,
   "id": "0ebeab39-0893-438c-a227-8ba363dfda96",
   "metadata": {},
   "outputs": [],
   "source": [
    "import torch\n",
    "\n",
    "batch_size = 2^6\n",
    "\n",
    "train_loader = torch.utils.data.DataLoader(normalized_train_dataset, batch_size=batch_size, shuffle=True)\n",
    "test_loader = torch.utils.data.DataLoader(normalized_test_dataset, batch_size=batch_size, shuffle=False)"
   ]
  },
  {
   "cell_type": "markdown",
   "id": "d22bd44b-8dde-467d-8790-db64579d6ca1",
   "metadata": {},
   "source": [
    "## Re-introducing you to typical NN's\n",
    "Interestingly, `pytorch` which is the SOTA ML framework today, is actually built upon on the early lua implementation of [the torch library](https://en.wikipedia.org/wiki/Torch_(machine_learning)). Came in during 2017 and has unequivocally been the top tool for ML research since.\n",
    "\n",
    "Note; `pytorch` comes with a comprehensive `nn` package that handles common activation functions, architecture implementation for various SOTA NN's - this library is also hella extensible.\n",
    "\n",
    "### Our architecture\n",
    "Ofcourse we want to stay simple here as we progress to more complex S-NN's, so we will define a;\n",
    "- 28*28 input layer (corresponding to each pixel cell) that yields 2^8 outputs.\n",
    "- A hidden 2^8 input to 2^8 output layer.\n",
    "- 2^8 to 10 output layer (for classification of digits 0 to 10).\n",
    "- final output of size 10 is the result of this NN. "
   ]
  },
  {
   "cell_type": "code",
   "execution_count": 25,
   "id": "e25ffdfb-7505-482b-9f21-7a22fee4d77f",
   "metadata": {},
   "outputs": [
    {
     "ename": "ModuleNotFoundError",
     "evalue": "No module named 'distutils'",
     "output_type": "error",
     "traceback": [
      "\u001b[0;31m---------------------------------------------------------------------------\u001b[0m",
      "\u001b[0;31mModuleNotFoundError\u001b[0m                       Traceback (most recent call last)",
      "Cell \u001b[0;32mIn[25], line 23\u001b[0m\n\u001b[1;32m     19\u001b[0m         \u001b[38;5;28;01mreturn\u001b[39;00m x\n\u001b[1;32m     21\u001b[0m model \u001b[38;5;241m=\u001b[39m SimpleNN()\n\u001b[0;32m---> 23\u001b[0m \u001b[38;5;28;01mfrom\u001b[39;00m \u001b[38;5;21;01mtorchviz\u001b[39;00m \u001b[38;5;28;01mimport\u001b[39;00m make_dot\n\u001b[1;32m     25\u001b[0m x \u001b[38;5;241m=\u001b[39m torch\u001b[38;5;241m.\u001b[39mrandn(\u001b[38;5;241m1\u001b[39m, \u001b[38;5;241m28\u001b[39m\u001b[38;5;241m*\u001b[39m\u001b[38;5;241m28\u001b[39m)\n\u001b[1;32m     27\u001b[0m \u001b[38;5;66;03m# Use torchviz to generate the graph\u001b[39;00m\n",
      "File \u001b[0;32m~/.local/share/virtualenvs/spiking-neurons-ryfkVDrH/lib/python3.12/site-packages/torchviz/__init__.py:1\u001b[0m\n\u001b[0;32m----> 1\u001b[0m \u001b[38;5;28;01mfrom\u001b[39;00m \u001b[38;5;21;01m.\u001b[39;00m\u001b[38;5;21;01mdot\u001b[39;00m \u001b[38;5;28;01mimport\u001b[39;00m make_dot, make_dot_from_trace\n",
      "File \u001b[0;32m~/.local/share/virtualenvs/spiking-neurons-ryfkVDrH/lib/python3.12/site-packages/torchviz/dot.py:2\u001b[0m\n\u001b[1;32m      1\u001b[0m \u001b[38;5;28;01mfrom\u001b[39;00m \u001b[38;5;21;01mcollections\u001b[39;00m \u001b[38;5;28;01mimport\u001b[39;00m namedtuple\n\u001b[0;32m----> 2\u001b[0m \u001b[38;5;28;01mfrom\u001b[39;00m \u001b[38;5;21;01mdistutils\u001b[39;00m\u001b[38;5;21;01m.\u001b[39;00m\u001b[38;5;21;01mversion\u001b[39;00m \u001b[38;5;28;01mimport\u001b[39;00m LooseVersion\n\u001b[1;32m      3\u001b[0m \u001b[38;5;28;01mfrom\u001b[39;00m \u001b[38;5;21;01mgraphviz\u001b[39;00m \u001b[38;5;28;01mimport\u001b[39;00m Digraph\n\u001b[1;32m      4\u001b[0m \u001b[38;5;28;01mimport\u001b[39;00m \u001b[38;5;21;01mtorch\u001b[39;00m\n",
      "\u001b[0;31mModuleNotFoundError\u001b[0m: No module named 'distutils'"
     ]
    }
   ],
   "source": [
    "import torch\n",
    "import torch.nn as nn\n",
    "import torch.nn.functional as F\n",
    "\n",
    "class SimpleNN(nn.Module):\n",
    "    def __init__(self):\n",
    "        super(SimpleNN, self).__init__()\n",
    "        \n",
    "        self.fc1 = nn.Linear(28*28, 512)\n",
    "        self.fc2 = nn.Linear(512, 512)\n",
    "        self.fc3 = nn.Linear(512, 10)\n",
    "\n",
    "    def forward(self, x):\n",
    "        x = x.view(-1, 28*28) # flattens each tensor to a 1D array ready for network feeding\n",
    "        # NOTE: the -1 infers batch_size by the passed in x, -1 to keep dyanmic.\n",
    "        x = F.relu(self.fc1(x))\n",
    "        x = F.relu(self.fc2(x))\n",
    "        x = self.fc3(x) # note lack of activation function as output layer just \"summarizes\" results. \n",
    "        return x\n",
    "\n",
    "model = SimpleNN()\n",
    "\n",
    "from torchviz import make_dot\n",
    "\n",
    "x = torch.randn(1, 28*28)\n",
    "\n",
    "# Use torchviz to generate the graph\n",
    "y = model(x)\n",
    "make_dot(y, params=dict(model.named_parameters()))"
   ]
  },
  {
   "cell_type": "markdown",
   "id": "9229b1a9-b981-4710-9baa-9232957e0267",
   "metadata": {},
   "source": [
    "# Loss Function and Optimization Method Notes\n",
    "I'm familiar with two main loss functions, one for regression and one for classification. Both operate on;\n",
    "\n",
    "- $N$ is the number of observations.\n",
    "- $y_i$ is the actual label for the $i^{th}$ observation.\n",
    "- $\\hat{y}_i$ is the predicted value for the $i^{th}$ observation.\n",
    "\n",
    "They look arbitrary, but they are specifically desgined to be \"smooth\" functions that allows differentiability to allow us to perform **gradient descent**.\n",
    "\n",
    "### Regression Loss\n",
    "The classic mean-square-error equation.\n",
    "$$\n",
    "\\text{MSE} = \\frac{1}{N} \\sum_{i=1}^{N} (\\hat{y}_i - y_i)^2 \\text{ and note; }\n",
    "\\frac{\\partial \\text{MSE}}{\\partial \\hat{y}_i} = \\frac{2}{N} \\sum_{i=1}^{N} (\\hat{y}_i - y_i)\n",
    "$$\n",
    "\n",
    "### Classification Loss\n",
    "I've only really known of the Cross-Entropy Loss ($CEL$) function - enter the binary variant;\n",
    "\n",
    "$$\n",
    "\\text{CEL}_\\text{Binary} = -\\frac{1}{N} \\sum_{i=1}^{N} \\left[ y_i \\log(\\hat{y}_i) + (1 - y_i) \\log(1 - \\hat{y}_i) \\right]\n",
    "$$\n",
    "With it's partial derivative;\n",
    "$$\n",
    "\\frac{\\partial \\text{CEL}_\\text{Binary}}{\\partial \\hat{y}_i} = -\\frac{1}{N} \\sum_{i=1}^{N} \\left[ \\frac{y_i}{\\hat{y}_i} - \\frac{1 - y_i}{1 - \\hat{y}_i} \\right]\n",
    "$$\n",
    "\n",
    "- Note: $y_i$ is now either 0 or 1, and,\n",
    "- $\\hat{y}_i$ is a probability in [0,1]. \n",
    "\n",
    "Which leads us to generalise for $C$ different classes.\n",
    "$$\n",
    "\\text{CEL}_\\text{Multi} = -\\frac{1}{N} \\sum_{i=1}^{N} \\sum_{c=1}^{C} y_{i,c} \\log(\\hat{y}_{i,c})\n",
    "$$\n",
    "\n",
    "With it's partial derivative;\n",
    "$$\n",
    "\\frac{\\partial \\text{CEL}_\\text{Multi}}{\\partial \\hat{y}_{i,c}} = -\\frac{1}{N} \\sum_{i=1}^{N} \\frac{y_{i,c}}{\\hat{y}_{i,c}}\n",
    "$$\n",
    "\n",
    "- $y_{i,c}$ is a binary indicator of whether class $c$ is the correct classification for observation $i$.\n",
    "- $\\hat{y}_{i,c}$ is the predicted probability of observation $i$ being of class $c$.\n",
    "\n",
    "## Optimization\n",
    "Gradient descent is applied..."
   ]
  },
  {
   "cell_type": "markdown",
   "id": "5b7dd7d0-e420-464e-909a-53072e7184d9",
   "metadata": {},
   "source": [
    "# Criterion being the Cross Entropy Loss\n",
    "Mini-batched backward propogating gradient descent."
   ]
  },
  {
   "cell_type": "code",
   "execution_count": 14,
   "id": "726e2604-57fa-4c94-badb-9ea84a5de902",
   "metadata": {},
   "outputs": [],
   "source": [
    "criterion = nn.CrossEntropyLoss()\n",
    "optimizer = torch.optim.SGD(model.parameters(), lr=0.01) # LR; learning rate (hyper parameter)"
   ]
  },
  {
   "cell_type": "markdown",
   "id": "682f167a-8ad2-4648-a706-4fe655428aab",
   "metadata": {},
   "source": [
    "# Training the model\n",
    "Each step, or `epoch` has a forward pass to evaluate the step loss which gets propogated back up the NN to perform a gradient descent via chain rule."
   ]
  },
  {
   "cell_type": "code",
   "execution_count": 17,
   "id": "2cba0e81-6699-409f-b870-99079f606d25",
   "metadata": {},
   "outputs": [
    {
     "name": "stdout",
     "output_type": "stream",
     "text": [
      "Epoch [1/5], Loss: 0.0842\n",
      "Epoch [2/5], Loss: 0.0533\n",
      "Epoch [3/5], Loss: 0.0345\n",
      "Epoch [4/5], Loss: 0.0253\n",
      "Epoch [5/5], Loss: 0.0159\n"
     ]
    }
   ],
   "source": [
    "epochs = 5\n",
    "\n",
    "for epoch in range(epochs):\n",
    "    model.train()\n",
    "    running_loss = 0.0\n",
    "    for images, labels in train_loader:\n",
    "        optimizer.zero_grad()  # Zero the parameter gradients\n",
    "        \n",
    "        \n",
    "        outputs = model(images)\n",
    "        loss = criterion(outputs, labels) # forward pass\n",
    "        \n",
    "        loss.backward() # propogate backwards the loss, perform gradient descent\n",
    "        optimizer.step()\n",
    "        \n",
    "        running_loss += loss.item()\n",
    "    \n",
    "    print(f'Epoch [{epoch+1}/{epochs}], Loss: {running_loss/len(train_loader):.4f}')"
   ]
  },
  {
   "cell_type": "markdown",
   "id": "570c647a-7cef-4b26-bcf1-a44ed821d415",
   "metadata": {},
   "source": [
    "# Evaluation\n",
    "There are various metrics we can gather, but the cleanest is just the raw accuracy. But when comparing models, we will need to get a bit better here to prove statstically significant differences."
   ]
  },
  {
   "cell_type": "code",
   "execution_count": 18,
   "id": "7ecb6eaf-fc0b-42e7-98cb-f5e9cf21e397",
   "metadata": {},
   "outputs": [
    {
     "name": "stdout",
     "output_type": "stream",
     "text": [
      "Accuracy of the network on the 10000 test images: 98.18%\n"
     ]
    }
   ],
   "source": [
    "model.eval()  # Set the model to evaluation mode\n",
    "with torch.no_grad():  # Turn off gradients for validation, saves memory and computations\n",
    "    correct = 0\n",
    "    total = 0\n",
    "    for images, labels in test_loader:\n",
    "        images = images.view(-1, 28*28)\n",
    "        outputs = model(images)\n",
    "        _, predicted = torch.max(outputs.data, 1)\n",
    "        total += labels.size(0)\n",
    "        correct += (predicted == labels).sum().item()\n",
    "\n",
    "    print(f'Accuracy of the network on the 10000 test images: {100 * correct / total}%')"
   ]
  },
  {
   "cell_type": "code",
   "execution_count": null,
   "id": "26216286-d821-4d66-8016-66594527aeff",
   "metadata": {},
   "outputs": [],
   "source": []
  }
 ],
 "metadata": {
  "kernelspec": {
   "display_name": "Python 3 (ipykernel)",
   "language": "python",
   "name": "python3"
  },
  "language_info": {
   "codemirror_mode": {
    "name": "ipython",
    "version": 3
   },
   "file_extension": ".py",
   "mimetype": "text/x-python",
   "name": "python",
   "nbconvert_exporter": "python",
   "pygments_lexer": "ipython3",
   "version": "3.12.0"
  }
 },
 "nbformat": 4,
 "nbformat_minor": 5
}
